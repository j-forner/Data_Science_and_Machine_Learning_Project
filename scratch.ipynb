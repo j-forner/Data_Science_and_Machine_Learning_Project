{
 "cells": [
  {
   "cell_type": "code",
   "execution_count": 10,
   "id": "8a0e9bfd",
   "metadata": {},
   "outputs": [],
   "source": [
    "import numpy as np\n",
    "def initialize_weights(layers = [784, 60, 60, 10]):\n",
    "    # The following Python lists will contain numpy matrices\n",
    "    # connected the layers in the neural network \n",
    "    W = [[0.0]]\n",
    "    B = [[0.0]]\n",
    "    for i in range(1, len(layers)):\n",
    "        # The scaling factor below is from a research paper\n",
    "        w_temp = np.random.randn(layers[i], layers[i-1])*np.sqrt(2/layers[i-1])\n",
    "        b_temp = np.random.randn(layers[i], 1)*np.sqrt(2/layers[i-1])\n",
    "    \n",
    "        W.append(w_temp)\n",
    "        B.append(b_temp)\n",
    "    return W, B"
   ]
  },
  {
   "cell_type": "code",
   "execution_count": 11,
   "id": "9a3d71bd",
   "metadata": {},
   "outputs": [
    {
     "data": {
      "text/plain": [
       "([[0.0],\n",
       "  array([[ 0.14990995, -0.7896968 ,  0.01409911,  0.21054217],\n",
       "         [-0.42662443,  0.25687521, -0.29566598, -0.67089598],\n",
       "         [ 0.27317635, -0.32256117,  0.80015191,  0.40381934]]),\n",
       "  array([[ 0.84956588, -0.80390908, -0.90526968],\n",
       "         [-0.0245937 ,  0.01244937,  2.16657276]]),\n",
       "  array([[ 1.27272103, -1.14255881]])],\n",
       " [[0.0],\n",
       "  array([[-0.83628288],\n",
       "         [-0.3225988 ],\n",
       "         [ 0.25716097]]),\n",
       "  array([[-0.78846408],\n",
       "         [ 0.19623147]]),\n",
       "  array([[0.21449042]])])"
      ]
     },
     "execution_count": 11,
     "metadata": {},
     "output_type": "execute_result"
    }
   ],
   "source": [
    "initialize_weights(layers = [4, 3, 2, 1])"
   ]
  }
 ],
 "metadata": {
  "kernelspec": {
   "display_name": "Python 3 (ipykernel)",
   "language": "python",
   "name": "python3"
  },
  "language_info": {
   "codemirror_mode": {
    "name": "ipython",
    "version": 3
   },
   "file_extension": ".py",
   "mimetype": "text/x-python",
   "name": "python",
   "nbconvert_exporter": "python",
   "pygments_lexer": "ipython3",
   "version": "3.9.7"
  }
 },
 "nbformat": 4,
 "nbformat_minor": 5
}
