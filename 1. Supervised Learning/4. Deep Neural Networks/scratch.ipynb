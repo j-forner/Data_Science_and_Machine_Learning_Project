{
 "cells": [
  {
   "cell_type": "code",
   "execution_count": 1,
   "id": "bcde7098",
   "metadata": {},
   "outputs": [],
   "source": [
    "import numpy as np"
   ]
  },
  {
   "cell_type": "code",
   "execution_count": 34,
   "id": "b29ae5cf",
   "metadata": {},
   "outputs": [],
   "source": [
    "def initialize_weights(layers = [4, 1, 1, 2]):\n",
    "    # The following Python lists will contain numpy matrices\n",
    "    # connected the layers in the neural network \n",
    "    W = [[0.0]]\n",
    "    B = [[0.0]]\n",
    "    for i in range(1, len(layers)):\n",
    "        # The scalling factor is something I found in a research paper :)\n",
    "        w_temp = np.random.randn(layers[i], layers[i-1])\n",
    "        b_temp = np.random.randn(layers[i], 1)\n",
    "    \n",
    "        W.append(w_temp)\n",
    "        B.append(b_temp)\n",
    "    return W, B"
   ]
  },
  {
   "cell_type": "code",
   "execution_count": 35,
   "id": "26ded0ed",
   "metadata": {},
   "outputs": [
    {
     "data": {
      "text/plain": [
       "([[0.0],\n",
       "  array([[-0.39617933, -0.04659201,  0.49812535,  1.43410075]]),\n",
       "  array([[0.57718877]]),\n",
       "  array([[ 0.46051824],\n",
       "         [-0.68861942]])],\n",
       " [[0.0],\n",
       "  array([[-0.99520893]]),\n",
       "  array([[-1.68602402]]),\n",
       "  array([[2.4570217 ],\n",
       "         [0.97315409]])])"
      ]
     },
     "execution_count": 35,
     "metadata": {},
     "output_type": "execute_result"
    }
   ],
   "source": [
    "initialize_weights()"
   ]
  }
 ],
 "metadata": {
  "kernelspec": {
   "display_name": "Python 3 (ipykernel)",
   "language": "python",
   "name": "python3"
  },
  "language_info": {
   "codemirror_mode": {
    "name": "ipython",
    "version": 3
   },
   "file_extension": ".py",
   "mimetype": "text/x-python",
   "name": "python",
   "nbconvert_exporter": "python",
   "pygments_lexer": "ipython3",
   "version": "3.9.7"
  }
 },
 "nbformat": 4,
 "nbformat_minor": 5
}
